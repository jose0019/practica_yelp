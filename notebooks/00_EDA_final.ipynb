{
 "cells": [
  {
   "cell_type": "markdown",
   "id": "e5ae41d1",
   "metadata": {},
   "source": [
    "# Análisis de puntuación de comercios\n",
    "\n",
    "**Autores:**\n",
    "\n",
    "- José Antonio Nazar Alaez (jose.nazar@cunef.edu)\n",
    "\n",
    "- Francisco Martínez García (f.martinezgarcia@cunef.edu)"
   ]
  },
  {
   "cell_type": "markdown",
   "id": "cb456451",
   "metadata": {},
   "source": [
    "En este trabajo analizaremos los datos sobre unas reseñas realizadas a distintos comercios en los Estados Unidos de América. Estas reseñas tienen una puntuación de 0 a 5. Nuestro objetivo será predecir si una reseña es bunea (mayor o igual a 4) o mala.\n",
    "\n",
    "Los datos utilizados han sido obtenidos en la página web https://www.yelp.com/dataset/download y consta de 5 archivos json: business, checkin, tip, review y user."
   ]
  },
  {
   "cell_type": "markdown",
   "id": "863924a8",
   "metadata": {},
   "source": [
    "# EDA"
   ]
  },
  {
   "cell_type": "markdown",
   "id": "797f0f53",
   "metadata": {},
   "source": [
    "En este primer notebook realizaremos un análisis de los datos y crearemos el data frame con las variables deseadas para hacer nuestro modelo."
   ]
  },
  {
   "cell_type": "markdown",
   "id": "50cfc9d3",
   "metadata": {},
   "source": [
    "## Funciones"
   ]
  },
  {
   "cell_type": "code",
   "execution_count": 44,
   "id": "c387fa12",
   "metadata": {},
   "outputs": [],
   "source": [
    "def get_corr_matrix(dataset = None, metodo='pearson', size_figure=[10,8]):\n",
    "    # Para obtener la correlación de Spearman, sólo cambiar el metodo por 'spearman'\n",
    "\n",
    "    if dataset is None:\n",
    "        print(u'\\nHace falta pasar argumentos a la función')\n",
    "        return 1\n",
    "    sns.set(style=\"white\")\n",
    "    # Compute the correlation matrix\n",
    "    corr = dataset.corr(method=metodo) \n",
    "    # Set self-correlation to zero to avoid distraction\n",
    "    for i in range(corr.shape[0]):\n",
    "        corr.iloc[i, i] = 0\n",
    "    # Set up the matplotlib figure\n",
    "    f, ax = plt.subplots(figsize=size_figure)\n",
    "    # Draw the heatmap with the mask and correct aspect ratio\n",
    "    sns.heatmap(corr, center=0,\n",
    "                square=True, linewidths=.5,  cmap ='viridis' ) #cbar_kws={\"shrink\": .5}\n",
    "    plt.show()\n",
    "    \n",
    "    return 0\n"
   ]
  },
  {
   "cell_type": "markdown",
   "id": "36396253",
   "metadata": {},
   "source": [
    "## Importación de librerías"
   ]
  },
  {
   "cell_type": "code",
   "execution_count": 45,
   "id": "7737565b",
   "metadata": {},
   "outputs": [],
   "source": [
    "#Import libraries\n",
    "import pandas as pd\n",
    "import geopandas as gpd\n",
    "import numpy as np\n",
    "import seaborn as sns\n",
    "from matplotlib import pyplot as plt\n",
    "\n",
    "import json\n",
    "import pickle\n",
    "\n",
    "from sklearn.preprocessing import OneHotEncoder\n",
    "from sklearn.model_selection import train_test_split\n",
    "\n",
    "import category_encoders as ce\n",
    "\n",
    "import warnings\n",
    "warnings.filterwarnings('ignore')"
   ]
  },
  {
   "cell_type": "markdown",
   "id": "f9a56ecf",
   "metadata": {},
   "source": [
    "## Carga de datos y creación de data frames"
   ]
  },
  {
   "cell_type": "code",
   "execution_count": 46,
   "id": "4ea70bfb",
   "metadata": {},
   "outputs": [
    {
     "data": {
      "text/html": [
       "<div>\n",
       "<style scoped>\n",
       "    .dataframe tbody tr th:only-of-type {\n",
       "        vertical-align: middle;\n",
       "    }\n",
       "\n",
       "    .dataframe tbody tr th {\n",
       "        vertical-align: top;\n",
       "    }\n",
       "\n",
       "    .dataframe thead th {\n",
       "        text-align: right;\n",
       "    }\n",
       "</style>\n",
       "<table border=\"1\" class=\"dataframe\">\n",
       "  <thead>\n",
       "    <tr style=\"text-align: right;\">\n",
       "      <th></th>\n",
       "      <th>business_id</th>\n",
       "      <th>date</th>\n",
       "    </tr>\n",
       "  </thead>\n",
       "  <tbody>\n",
       "    <tr>\n",
       "      <th>0</th>\n",
       "      <td>---kPU91CF4Lq2-WlRu9Lw</td>\n",
       "      <td>2020-03-13 21:10:56, 2020-06-02 22:18:06, 2020...</td>\n",
       "    </tr>\n",
       "    <tr>\n",
       "      <th>1</th>\n",
       "      <td>--0iUa4sNDFiZFrAdIWhZQ</td>\n",
       "      <td>2010-09-13 21:43:09, 2011-05-04 23:08:15, 2011...</td>\n",
       "    </tr>\n",
       "    <tr>\n",
       "      <th>2</th>\n",
       "      <td>--30_8IhuyMHbSOcNWd6DQ</td>\n",
       "      <td>2013-06-14 23:29:17, 2014-08-13 23:20:22</td>\n",
       "    </tr>\n",
       "    <tr>\n",
       "      <th>3</th>\n",
       "      <td>--7PUidqRWpRSpXebiyxTg</td>\n",
       "      <td>2011-02-15 17:12:00, 2011-07-28 02:46:10, 2012...</td>\n",
       "    </tr>\n",
       "    <tr>\n",
       "      <th>4</th>\n",
       "      <td>--7jw19RH9JKXgFohspgQw</td>\n",
       "      <td>2014-04-21 20:42:11, 2014-04-28 21:04:46, 2014...</td>\n",
       "    </tr>\n",
       "  </tbody>\n",
       "</table>\n",
       "</div>"
      ],
      "text/plain": [
       "              business_id                                               date\n",
       "0  ---kPU91CF4Lq2-WlRu9Lw  2020-03-13 21:10:56, 2020-06-02 22:18:06, 2020...\n",
       "1  --0iUa4sNDFiZFrAdIWhZQ  2010-09-13 21:43:09, 2011-05-04 23:08:15, 2011...\n",
       "2  --30_8IhuyMHbSOcNWd6DQ           2013-06-14 23:29:17, 2014-08-13 23:20:22\n",
       "3  --7PUidqRWpRSpXebiyxTg  2011-02-15 17:12:00, 2011-07-28 02:46:10, 2012...\n",
       "4  --7jw19RH9JKXgFohspgQw  2014-04-21 20:42:11, 2014-04-28 21:04:46, 2014..."
      ]
     },
     "execution_count": 46,
     "metadata": {},
     "output_type": "execute_result"
    }
   ],
   "source": [
    "#Read checkin data\n",
    "with open ('./data/yelp_academic_dataset_checkin.json','r',encoding='utf-8') as f:\n",
    "\n",
    "    datos=[]\n",
    "    \n",
    "    for line in f:\n",
    "        objeto = json.loads(line)\n",
    "        \n",
    "        datos.append(objeto)\n",
    "        \n",
    "checkin = pd.DataFrame(datos)\n",
    "checkin.head()"
   ]
  },
  {
   "cell_type": "code",
   "execution_count": 47,
   "id": "0002df9d",
   "metadata": {},
   "outputs": [
    {
     "data": {
      "text/html": [
       "<div>\n",
       "<style scoped>\n",
       "    .dataframe tbody tr th:only-of-type {\n",
       "        vertical-align: middle;\n",
       "    }\n",
       "\n",
       "    .dataframe tbody tr th {\n",
       "        vertical-align: top;\n",
       "    }\n",
       "\n",
       "    .dataframe thead th {\n",
       "        text-align: right;\n",
       "    }\n",
       "</style>\n",
       "<table border=\"1\" class=\"dataframe\">\n",
       "  <thead>\n",
       "    <tr style=\"text-align: right;\">\n",
       "      <th></th>\n",
       "      <th>user_id</th>\n",
       "      <th>business_id</th>\n",
       "      <th>text</th>\n",
       "      <th>date</th>\n",
       "      <th>compliment_count</th>\n",
       "    </tr>\n",
       "  </thead>\n",
       "  <tbody>\n",
       "    <tr>\n",
       "      <th>0</th>\n",
       "      <td>AGNUgVwnZUey3gcPCJ76iw</td>\n",
       "      <td>3uLgwr0qeCNMjKenHJwPGQ</td>\n",
       "      <td>Avengers time with the ladies.</td>\n",
       "      <td>2012-05-18 02:17:21</td>\n",
       "      <td>0</td>\n",
       "    </tr>\n",
       "    <tr>\n",
       "      <th>1</th>\n",
       "      <td>NBN4MgHP9D3cw--SnauTkA</td>\n",
       "      <td>QoezRbYQncpRqyrLH6Iqjg</td>\n",
       "      <td>They have lots of good deserts and tasty cuban...</td>\n",
       "      <td>2013-02-05 18:35:10</td>\n",
       "      <td>0</td>\n",
       "    </tr>\n",
       "    <tr>\n",
       "      <th>2</th>\n",
       "      <td>-copOvldyKh1qr-vzkDEvw</td>\n",
       "      <td>MYoRNLb5chwjQe3c_k37Gg</td>\n",
       "      <td>It's open even when you think it isn't</td>\n",
       "      <td>2013-08-18 00:56:08</td>\n",
       "      <td>0</td>\n",
       "    </tr>\n",
       "    <tr>\n",
       "      <th>3</th>\n",
       "      <td>FjMQVZjSqY8syIO-53KFKw</td>\n",
       "      <td>hV-bABTK-glh5wj31ps_Jw</td>\n",
       "      <td>Very decent fried chicken</td>\n",
       "      <td>2017-06-27 23:05:38</td>\n",
       "      <td>0</td>\n",
       "    </tr>\n",
       "    <tr>\n",
       "      <th>4</th>\n",
       "      <td>ld0AperBXk1h6UbqmM80zw</td>\n",
       "      <td>_uN0OudeJ3Zl_tf6nxg5ww</td>\n",
       "      <td>Appetizers.. platter special for lunch</td>\n",
       "      <td>2012-10-06 19:43:09</td>\n",
       "      <td>0</td>\n",
       "    </tr>\n",
       "  </tbody>\n",
       "</table>\n",
       "</div>"
      ],
      "text/plain": [
       "                  user_id             business_id  \\\n",
       "0  AGNUgVwnZUey3gcPCJ76iw  3uLgwr0qeCNMjKenHJwPGQ   \n",
       "1  NBN4MgHP9D3cw--SnauTkA  QoezRbYQncpRqyrLH6Iqjg   \n",
       "2  -copOvldyKh1qr-vzkDEvw  MYoRNLb5chwjQe3c_k37Gg   \n",
       "3  FjMQVZjSqY8syIO-53KFKw  hV-bABTK-glh5wj31ps_Jw   \n",
       "4  ld0AperBXk1h6UbqmM80zw  _uN0OudeJ3Zl_tf6nxg5ww   \n",
       "\n",
       "                                                text                 date  \\\n",
       "0                     Avengers time with the ladies.  2012-05-18 02:17:21   \n",
       "1  They have lots of good deserts and tasty cuban...  2013-02-05 18:35:10   \n",
       "2             It's open even when you think it isn't  2013-08-18 00:56:08   \n",
       "3                          Very decent fried chicken  2017-06-27 23:05:38   \n",
       "4             Appetizers.. platter special for lunch  2012-10-06 19:43:09   \n",
       "\n",
       "   compliment_count  \n",
       "0                 0  \n",
       "1                 0  \n",
       "2                 0  \n",
       "3                 0  \n",
       "4                 0  "
      ]
     },
     "execution_count": 47,
     "metadata": {},
     "output_type": "execute_result"
    }
   ],
   "source": [
    "#Read tip data\n",
    "with open ('./data/yelp_academic_dataset_tip.json','r',encoding='utf-8') as f:\n",
    "\n",
    "    datos=[]\n",
    "    \n",
    "    for line in f:\n",
    "        objeto = json.loads(line)\n",
    "        \n",
    "        datos.append(objeto)\n",
    "        \n",
    "tip = pd.DataFrame(datos)\n",
    "tip.head()"
   ]
  },
  {
   "cell_type": "code",
   "execution_count": 48,
   "id": "f228bef8",
   "metadata": {},
   "outputs": [
    {
     "data": {
      "text/html": [
       "<div>\n",
       "<style scoped>\n",
       "    .dataframe tbody tr th:only-of-type {\n",
       "        vertical-align: middle;\n",
       "    }\n",
       "\n",
       "    .dataframe tbody tr th {\n",
       "        vertical-align: top;\n",
       "    }\n",
       "\n",
       "    .dataframe thead th {\n",
       "        text-align: right;\n",
       "    }\n",
       "</style>\n",
       "<table border=\"1\" class=\"dataframe\">\n",
       "  <thead>\n",
       "    <tr style=\"text-align: right;\">\n",
       "      <th></th>\n",
       "      <th>user_id</th>\n",
       "      <th>name</th>\n",
       "      <th>review_count</th>\n",
       "      <th>yelping_since</th>\n",
       "      <th>useful</th>\n",
       "      <th>funny</th>\n",
       "      <th>cool</th>\n",
       "      <th>elite</th>\n",
       "      <th>friends</th>\n",
       "      <th>fans</th>\n",
       "      <th>...</th>\n",
       "      <th>compliment_more</th>\n",
       "      <th>compliment_profile</th>\n",
       "      <th>compliment_cute</th>\n",
       "      <th>compliment_list</th>\n",
       "      <th>compliment_note</th>\n",
       "      <th>compliment_plain</th>\n",
       "      <th>compliment_cool</th>\n",
       "      <th>compliment_funny</th>\n",
       "      <th>compliment_writer</th>\n",
       "      <th>compliment_photos</th>\n",
       "    </tr>\n",
       "  </thead>\n",
       "  <tbody>\n",
       "    <tr>\n",
       "      <th>0</th>\n",
       "      <td>qVc8ODYU5SZjKXVBgXdI7w</td>\n",
       "      <td>Walker</td>\n",
       "      <td>585</td>\n",
       "      <td>2007-01-25 16:47:26</td>\n",
       "      <td>7217</td>\n",
       "      <td>1259</td>\n",
       "      <td>5994</td>\n",
       "      <td>2007</td>\n",
       "      <td>NSCy54eWehBJyZdG2iE84w, pe42u7DcCH2QmI81NX-8qA...</td>\n",
       "      <td>267</td>\n",
       "      <td>...</td>\n",
       "      <td>65</td>\n",
       "      <td>55</td>\n",
       "      <td>56</td>\n",
       "      <td>18</td>\n",
       "      <td>232</td>\n",
       "      <td>844</td>\n",
       "      <td>467</td>\n",
       "      <td>467</td>\n",
       "      <td>239</td>\n",
       "      <td>180</td>\n",
       "    </tr>\n",
       "    <tr>\n",
       "      <th>1</th>\n",
       "      <td>j14WgRoU_-2ZE1aw1dXrJg</td>\n",
       "      <td>Daniel</td>\n",
       "      <td>4333</td>\n",
       "      <td>2009-01-25 04:35:42</td>\n",
       "      <td>43091</td>\n",
       "      <td>13066</td>\n",
       "      <td>27281</td>\n",
       "      <td>2009,2010,2011,2012,2013,2014,2015,2016,2017,2...</td>\n",
       "      <td>ueRPE0CX75ePGMqOFVj6IQ, 52oH4DrRvzzl8wh5UXyU0A...</td>\n",
       "      <td>3138</td>\n",
       "      <td>...</td>\n",
       "      <td>264</td>\n",
       "      <td>184</td>\n",
       "      <td>157</td>\n",
       "      <td>251</td>\n",
       "      <td>1847</td>\n",
       "      <td>7054</td>\n",
       "      <td>3131</td>\n",
       "      <td>3131</td>\n",
       "      <td>1521</td>\n",
       "      <td>1946</td>\n",
       "    </tr>\n",
       "    <tr>\n",
       "      <th>2</th>\n",
       "      <td>2WnXYQFK0hXEoTxPtV2zvg</td>\n",
       "      <td>Steph</td>\n",
       "      <td>665</td>\n",
       "      <td>2008-07-25 10:41:00</td>\n",
       "      <td>2086</td>\n",
       "      <td>1010</td>\n",
       "      <td>1003</td>\n",
       "      <td>2009,2010,2011,2012,2013</td>\n",
       "      <td>LuO3Bn4f3rlhyHIaNfTlnA, j9B4XdHUhDfTKVecyWQgyA...</td>\n",
       "      <td>52</td>\n",
       "      <td>...</td>\n",
       "      <td>13</td>\n",
       "      <td>10</td>\n",
       "      <td>17</td>\n",
       "      <td>3</td>\n",
       "      <td>66</td>\n",
       "      <td>96</td>\n",
       "      <td>119</td>\n",
       "      <td>119</td>\n",
       "      <td>35</td>\n",
       "      <td>18</td>\n",
       "    </tr>\n",
       "    <tr>\n",
       "      <th>3</th>\n",
       "      <td>SZDeASXq7o05mMNLshsdIA</td>\n",
       "      <td>Gwen</td>\n",
       "      <td>224</td>\n",
       "      <td>2005-11-29 04:38:33</td>\n",
       "      <td>512</td>\n",
       "      <td>330</td>\n",
       "      <td>299</td>\n",
       "      <td>2009,2010,2011</td>\n",
       "      <td>enx1vVPnfdNUdPho6PH_wg, 4wOcvMLtU6a9Lslggq74Vg...</td>\n",
       "      <td>28</td>\n",
       "      <td>...</td>\n",
       "      <td>4</td>\n",
       "      <td>1</td>\n",
       "      <td>6</td>\n",
       "      <td>2</td>\n",
       "      <td>12</td>\n",
       "      <td>16</td>\n",
       "      <td>26</td>\n",
       "      <td>26</td>\n",
       "      <td>10</td>\n",
       "      <td>9</td>\n",
       "    </tr>\n",
       "    <tr>\n",
       "      <th>4</th>\n",
       "      <td>hA5lMy-EnncsH4JoR-hFGQ</td>\n",
       "      <td>Karen</td>\n",
       "      <td>79</td>\n",
       "      <td>2007-01-05 19:40:59</td>\n",
       "      <td>29</td>\n",
       "      <td>15</td>\n",
       "      <td>7</td>\n",
       "      <td></td>\n",
       "      <td>PBK4q9KEEBHhFvSXCUirIw, 3FWPpM7KU1gXeOM_ZbYMbA...</td>\n",
       "      <td>1</td>\n",
       "      <td>...</td>\n",
       "      <td>1</td>\n",
       "      <td>0</td>\n",
       "      <td>0</td>\n",
       "      <td>0</td>\n",
       "      <td>1</td>\n",
       "      <td>1</td>\n",
       "      <td>0</td>\n",
       "      <td>0</td>\n",
       "      <td>0</td>\n",
       "      <td>0</td>\n",
       "    </tr>\n",
       "  </tbody>\n",
       "</table>\n",
       "<p>5 rows × 22 columns</p>\n",
       "</div>"
      ],
      "text/plain": [
       "                  user_id    name  review_count        yelping_since  useful  \\\n",
       "0  qVc8ODYU5SZjKXVBgXdI7w  Walker           585  2007-01-25 16:47:26    7217   \n",
       "1  j14WgRoU_-2ZE1aw1dXrJg  Daniel          4333  2009-01-25 04:35:42   43091   \n",
       "2  2WnXYQFK0hXEoTxPtV2zvg   Steph           665  2008-07-25 10:41:00    2086   \n",
       "3  SZDeASXq7o05mMNLshsdIA    Gwen           224  2005-11-29 04:38:33     512   \n",
       "4  hA5lMy-EnncsH4JoR-hFGQ   Karen            79  2007-01-05 19:40:59      29   \n",
       "\n",
       "   funny   cool                                              elite  \\\n",
       "0   1259   5994                                               2007   \n",
       "1  13066  27281  2009,2010,2011,2012,2013,2014,2015,2016,2017,2...   \n",
       "2   1010   1003                           2009,2010,2011,2012,2013   \n",
       "3    330    299                                     2009,2010,2011   \n",
       "4     15      7                                                      \n",
       "\n",
       "                                             friends  fans  ...  \\\n",
       "0  NSCy54eWehBJyZdG2iE84w, pe42u7DcCH2QmI81NX-8qA...   267  ...   \n",
       "1  ueRPE0CX75ePGMqOFVj6IQ, 52oH4DrRvzzl8wh5UXyU0A...  3138  ...   \n",
       "2  LuO3Bn4f3rlhyHIaNfTlnA, j9B4XdHUhDfTKVecyWQgyA...    52  ...   \n",
       "3  enx1vVPnfdNUdPho6PH_wg, 4wOcvMLtU6a9Lslggq74Vg...    28  ...   \n",
       "4  PBK4q9KEEBHhFvSXCUirIw, 3FWPpM7KU1gXeOM_ZbYMbA...     1  ...   \n",
       "\n",
       "   compliment_more  compliment_profile  compliment_cute  compliment_list  \\\n",
       "0               65                  55               56               18   \n",
       "1              264                 184              157              251   \n",
       "2               13                  10               17                3   \n",
       "3                4                   1                6                2   \n",
       "4                1                   0                0                0   \n",
       "\n",
       "   compliment_note  compliment_plain  compliment_cool  compliment_funny  \\\n",
       "0              232               844              467               467   \n",
       "1             1847              7054             3131              3131   \n",
       "2               66                96              119               119   \n",
       "3               12                16               26                26   \n",
       "4                1                 1                0                 0   \n",
       "\n",
       "   compliment_writer  compliment_photos  \n",
       "0                239                180  \n",
       "1               1521               1946  \n",
       "2                 35                 18  \n",
       "3                 10                  9  \n",
       "4                  0                  0  \n",
       "\n",
       "[5 rows x 22 columns]"
      ]
     },
     "execution_count": 48,
     "metadata": {},
     "output_type": "execute_result"
    }
   ],
   "source": [
    "#Read user data\n",
    "with open ('./data/yelp_academic_dataset_user.json','r',encoding='utf-8') as f:\n",
    "\n",
    "    datos=[]\n",
    "    \n",
    "    for line in f:\n",
    "        objeto = json.loads(line)\n",
    "        \n",
    "        datos.append(objeto)\n",
    "        \n",
    "user = pd.DataFrame(datos)\n",
    "user.head()"
   ]
  },
  {
   "cell_type": "code",
   "execution_count": 49,
   "id": "f57cdcb8",
   "metadata": {
    "scrolled": false
   },
   "outputs": [
    {
     "data": {
      "text/html": [
       "<div>\n",
       "<style scoped>\n",
       "    .dataframe tbody tr th:only-of-type {\n",
       "        vertical-align: middle;\n",
       "    }\n",
       "\n",
       "    .dataframe tbody tr th {\n",
       "        vertical-align: top;\n",
       "    }\n",
       "\n",
       "    .dataframe thead th {\n",
       "        text-align: right;\n",
       "    }\n",
       "</style>\n",
       "<table border=\"1\" class=\"dataframe\">\n",
       "  <thead>\n",
       "    <tr style=\"text-align: right;\">\n",
       "      <th></th>\n",
       "      <th>business_id</th>\n",
       "      <th>name</th>\n",
       "      <th>address</th>\n",
       "      <th>city</th>\n",
       "      <th>state</th>\n",
       "      <th>postal_code</th>\n",
       "      <th>latitude</th>\n",
       "      <th>longitude</th>\n",
       "      <th>stars</th>\n",
       "      <th>review_count</th>\n",
       "      <th>is_open</th>\n",
       "      <th>attributes</th>\n",
       "      <th>categories</th>\n",
       "      <th>hours</th>\n",
       "    </tr>\n",
       "  </thead>\n",
       "  <tbody>\n",
       "    <tr>\n",
       "      <th>0</th>\n",
       "      <td>Pns2l4eNsfO8kk83dixA6A</td>\n",
       "      <td>Abby Rappoport, LAC, CMQ</td>\n",
       "      <td>1616 Chapala St, Ste 2</td>\n",
       "      <td>Santa Barbara</td>\n",
       "      <td>CA</td>\n",
       "      <td>93101</td>\n",
       "      <td>34.426679</td>\n",
       "      <td>-119.711197</td>\n",
       "      <td>5.0</td>\n",
       "      <td>7</td>\n",
       "      <td>0</td>\n",
       "      <td>{'ByAppointmentOnly': 'True'}</td>\n",
       "      <td>Doctors, Traditional Chinese Medicine, Naturop...</td>\n",
       "      <td>None</td>\n",
       "    </tr>\n",
       "    <tr>\n",
       "      <th>1</th>\n",
       "      <td>mpf3x-BjTdTEA3yCZrAYPw</td>\n",
       "      <td>The UPS Store</td>\n",
       "      <td>87 Grasso Plaza Shopping Center</td>\n",
       "      <td>Affton</td>\n",
       "      <td>MO</td>\n",
       "      <td>63123</td>\n",
       "      <td>38.551126</td>\n",
       "      <td>-90.335695</td>\n",
       "      <td>3.0</td>\n",
       "      <td>15</td>\n",
       "      <td>1</td>\n",
       "      <td>{'BusinessAcceptsCreditCards': 'True'}</td>\n",
       "      <td>Shipping Centers, Local Services, Notaries, Ma...</td>\n",
       "      <td>{'Monday': '0:0-0:0', 'Tuesday': '8:0-18:30', ...</td>\n",
       "    </tr>\n",
       "    <tr>\n",
       "      <th>2</th>\n",
       "      <td>tUFrWirKiKi_TAnsVWINQQ</td>\n",
       "      <td>Target</td>\n",
       "      <td>5255 E Broadway Blvd</td>\n",
       "      <td>Tucson</td>\n",
       "      <td>AZ</td>\n",
       "      <td>85711</td>\n",
       "      <td>32.223236</td>\n",
       "      <td>-110.880452</td>\n",
       "      <td>3.5</td>\n",
       "      <td>22</td>\n",
       "      <td>0</td>\n",
       "      <td>{'BikeParking': 'True', 'BusinessAcceptsCredit...</td>\n",
       "      <td>Department Stores, Shopping, Fashion, Home &amp; G...</td>\n",
       "      <td>{'Monday': '8:0-22:0', 'Tuesday': '8:0-22:0', ...</td>\n",
       "    </tr>\n",
       "    <tr>\n",
       "      <th>3</th>\n",
       "      <td>MTSW4McQd7CbVtyjqoe9mw</td>\n",
       "      <td>St Honore Pastries</td>\n",
       "      <td>935 Race St</td>\n",
       "      <td>Philadelphia</td>\n",
       "      <td>PA</td>\n",
       "      <td>19107</td>\n",
       "      <td>39.955505</td>\n",
       "      <td>-75.155564</td>\n",
       "      <td>4.0</td>\n",
       "      <td>80</td>\n",
       "      <td>1</td>\n",
       "      <td>{'RestaurantsDelivery': 'False', 'OutdoorSeati...</td>\n",
       "      <td>Restaurants, Food, Bubble Tea, Coffee &amp; Tea, B...</td>\n",
       "      <td>{'Monday': '7:0-20:0', 'Tuesday': '7:0-20:0', ...</td>\n",
       "    </tr>\n",
       "    <tr>\n",
       "      <th>4</th>\n",
       "      <td>mWMc6_wTdE0EUBKIGXDVfA</td>\n",
       "      <td>Perkiomen Valley Brewery</td>\n",
       "      <td>101 Walnut St</td>\n",
       "      <td>Green Lane</td>\n",
       "      <td>PA</td>\n",
       "      <td>18054</td>\n",
       "      <td>40.338183</td>\n",
       "      <td>-75.471659</td>\n",
       "      <td>4.5</td>\n",
       "      <td>13</td>\n",
       "      <td>1</td>\n",
       "      <td>{'BusinessAcceptsCreditCards': 'True', 'Wheelc...</td>\n",
       "      <td>Brewpubs, Breweries, Food</td>\n",
       "      <td>{'Wednesday': '14:0-22:0', 'Thursday': '16:0-2...</td>\n",
       "    </tr>\n",
       "  </tbody>\n",
       "</table>\n",
       "</div>"
      ],
      "text/plain": [
       "              business_id                      name  \\\n",
       "0  Pns2l4eNsfO8kk83dixA6A  Abby Rappoport, LAC, CMQ   \n",
       "1  mpf3x-BjTdTEA3yCZrAYPw             The UPS Store   \n",
       "2  tUFrWirKiKi_TAnsVWINQQ                    Target   \n",
       "3  MTSW4McQd7CbVtyjqoe9mw        St Honore Pastries   \n",
       "4  mWMc6_wTdE0EUBKIGXDVfA  Perkiomen Valley Brewery   \n",
       "\n",
       "                           address           city state postal_code  \\\n",
       "0           1616 Chapala St, Ste 2  Santa Barbara    CA       93101   \n",
       "1  87 Grasso Plaza Shopping Center         Affton    MO       63123   \n",
       "2             5255 E Broadway Blvd         Tucson    AZ       85711   \n",
       "3                      935 Race St   Philadelphia    PA       19107   \n",
       "4                    101 Walnut St     Green Lane    PA       18054   \n",
       "\n",
       "    latitude   longitude  stars  review_count  is_open  \\\n",
       "0  34.426679 -119.711197    5.0             7        0   \n",
       "1  38.551126  -90.335695    3.0            15        1   \n",
       "2  32.223236 -110.880452    3.5            22        0   \n",
       "3  39.955505  -75.155564    4.0            80        1   \n",
       "4  40.338183  -75.471659    4.5            13        1   \n",
       "\n",
       "                                          attributes  \\\n",
       "0                      {'ByAppointmentOnly': 'True'}   \n",
       "1             {'BusinessAcceptsCreditCards': 'True'}   \n",
       "2  {'BikeParking': 'True', 'BusinessAcceptsCredit...   \n",
       "3  {'RestaurantsDelivery': 'False', 'OutdoorSeati...   \n",
       "4  {'BusinessAcceptsCreditCards': 'True', 'Wheelc...   \n",
       "\n",
       "                                          categories  \\\n",
       "0  Doctors, Traditional Chinese Medicine, Naturop...   \n",
       "1  Shipping Centers, Local Services, Notaries, Ma...   \n",
       "2  Department Stores, Shopping, Fashion, Home & G...   \n",
       "3  Restaurants, Food, Bubble Tea, Coffee & Tea, B...   \n",
       "4                          Brewpubs, Breweries, Food   \n",
       "\n",
       "                                               hours  \n",
       "0                                               None  \n",
       "1  {'Monday': '0:0-0:0', 'Tuesday': '8:0-18:30', ...  \n",
       "2  {'Monday': '8:0-22:0', 'Tuesday': '8:0-22:0', ...  \n",
       "3  {'Monday': '7:0-20:0', 'Tuesday': '7:0-20:0', ...  \n",
       "4  {'Wednesday': '14:0-22:0', 'Thursday': '16:0-2...  "
      ]
     },
     "execution_count": 49,
     "metadata": {},
     "output_type": "execute_result"
    }
   ],
   "source": [
    "#Read business data\n",
    "with open ('./data/yelp_academic_dataset_business.json','r',encoding='utf-8') as f:\n",
    "\n",
    "    datos=[]\n",
    "    \n",
    "    for line in f:\n",
    "        objeto = json.loads(line)\n",
    "        \n",
    "        datos.append(objeto)\n",
    "        \n",
    "business = pd.DataFrame(datos)\n",
    "business.head()"
   ]
  },
  {
   "cell_type": "code",
   "execution_count": 50,
   "id": "8c932c3f",
   "metadata": {},
   "outputs": [],
   "source": [
    "#Read review data\n",
    "with open ('./data/yelp_academic_dataset_review.json','r',encoding='utf-8') as f:\n",
    "\n",
    "    datos=[]\n",
    "    \n",
    "    for line in f:\n",
    "        objeto = json.loads(line)\n",
    "        \n",
    "        datos.append(objeto)\n",
    "        \n",
    "review = pd.DataFrame(datos)"
   ]
  },
  {
   "cell_type": "code",
   "execution_count": 51,
   "id": "72a2e735",
   "metadata": {},
   "outputs": [],
   "source": [
    "#Save the df\n",
    "with open('./models/review.pickle', 'wb') as f:\n",
    "    pickle.dump(review, f)"
   ]
  },
  {
   "cell_type": "code",
   "execution_count": 52,
   "id": "75ce971a",
   "metadata": {},
   "outputs": [],
   "source": [
    "#Load the df\n",
    "with open('./models/review.pickle', 'rb') as f:\n",
    "    review = pickle.load(f)"
   ]
  },
  {
   "cell_type": "markdown",
   "id": "ae450c53",
   "metadata": {},
   "source": [
    "De la tabla review eliminaremos las aquellas variables que no nos serán útilies: review_id, 'user_id, text y date. Además quitaremos la columna stars ya que esta se encuentra en en la tabla business.\n",
    "\n",
    "También agruparemos las reviews por business id para así poder unirla con la tabla business."
   ]
  },
  {
   "cell_type": "code",
   "execution_count": 53,
   "id": "50bdb56a",
   "metadata": {},
   "outputs": [],
   "source": [
    "#Delete the columns that will not be used\n",
    "review = review.drop(['review_id', 'user_id', 'text', 'date', 'stars'], axis=1)"
   ]
  },
  {
   "cell_type": "code",
   "execution_count": 54,
   "id": "b2538efa",
   "metadata": {},
   "outputs": [],
   "source": [
    "#Group reviews by business\n",
    "review = review.groupby(['business_id']).mean()"
   ]
  },
  {
   "cell_type": "code",
   "execution_count": 55,
   "id": "dce66b14",
   "metadata": {},
   "outputs": [
    {
     "data": {
      "text/html": [
       "<div>\n",
       "<style scoped>\n",
       "    .dataframe tbody tr th:only-of-type {\n",
       "        vertical-align: middle;\n",
       "    }\n",
       "\n",
       "    .dataframe tbody tr th {\n",
       "        vertical-align: top;\n",
       "    }\n",
       "\n",
       "    .dataframe thead th {\n",
       "        text-align: right;\n",
       "    }\n",
       "</style>\n",
       "<table border=\"1\" class=\"dataframe\">\n",
       "  <thead>\n",
       "    <tr style=\"text-align: right;\">\n",
       "      <th></th>\n",
       "      <th>useful</th>\n",
       "      <th>funny</th>\n",
       "      <th>cool</th>\n",
       "    </tr>\n",
       "    <tr>\n",
       "      <th>business_id</th>\n",
       "      <th></th>\n",
       "      <th></th>\n",
       "      <th></th>\n",
       "    </tr>\n",
       "  </thead>\n",
       "  <tbody>\n",
       "    <tr>\n",
       "      <th>---kPU91CF4Lq2-WlRu9Lw</th>\n",
       "      <td>0.67</td>\n",
       "      <td>0.04</td>\n",
       "      <td>0.54</td>\n",
       "    </tr>\n",
       "    <tr>\n",
       "      <th>--0iUa4sNDFiZFrAdIWhZQ</th>\n",
       "      <td>1.79</td>\n",
       "      <td>0.21</td>\n",
       "      <td>0.29</td>\n",
       "    </tr>\n",
       "    <tr>\n",
       "      <th>--30_8IhuyMHbSOcNWd6DQ</th>\n",
       "      <td>0.78</td>\n",
       "      <td>0.22</td>\n",
       "      <td>0.00</td>\n",
       "    </tr>\n",
       "    <tr>\n",
       "      <th>--7PUidqRWpRSpXebiyxTg</th>\n",
       "      <td>0.75</td>\n",
       "      <td>0.17</td>\n",
       "      <td>0.00</td>\n",
       "    </tr>\n",
       "    <tr>\n",
       "      <th>--7jw19RH9JKXgFohspgQw</th>\n",
       "      <td>1.23</td>\n",
       "      <td>0.00</td>\n",
       "      <td>0.00</td>\n",
       "    </tr>\n",
       "  </tbody>\n",
       "</table>\n",
       "</div>"
      ],
      "text/plain": [
       "                        useful  funny  cool\n",
       "business_id                                \n",
       "---kPU91CF4Lq2-WlRu9Lw    0.67   0.04  0.54\n",
       "--0iUa4sNDFiZFrAdIWhZQ    1.79   0.21  0.29\n",
       "--30_8IhuyMHbSOcNWd6DQ    0.78   0.22  0.00\n",
       "--7PUidqRWpRSpXebiyxTg    0.75   0.17  0.00\n",
       "--7jw19RH9JKXgFohspgQw    1.23   0.00  0.00"
      ]
     },
     "execution_count": 55,
     "metadata": {},
     "output_type": "execute_result"
    }
   ],
   "source": [
    "#Round the mean to 2 decimals\n",
    "review = review.apply(lambda x: round(x, 2))\n",
    "review.head()"
   ]
  },
  {
   "cell_type": "markdown",
   "id": "79e50ec9",
   "metadata": {},
   "source": [
    "Después de analizar los datos obtenidos en cada tabla, consideramos que las únicas tablas útiles para nuestro análisis son business y review. Para ello harenos un merge utilizando como columna en común business id para unirlas. \n",
    "\n",
    "Una vez unidas eliminaremos las columnas nombres, horas y business id ya que no nos aportan información útil para nuestros modelos."
   ]
  },
  {
   "cell_type": "code",
   "execution_count": 56,
   "id": "1551e19f",
   "metadata": {},
   "outputs": [
    {
     "data": {
      "text/html": [
       "<div>\n",
       "<style scoped>\n",
       "    .dataframe tbody tr th:only-of-type {\n",
       "        vertical-align: middle;\n",
       "    }\n",
       "\n",
       "    .dataframe tbody tr th {\n",
       "        vertical-align: top;\n",
       "    }\n",
       "\n",
       "    .dataframe thead th {\n",
       "        text-align: right;\n",
       "    }\n",
       "</style>\n",
       "<table border=\"1\" class=\"dataframe\">\n",
       "  <thead>\n",
       "    <tr style=\"text-align: right;\">\n",
       "      <th></th>\n",
       "      <th>address</th>\n",
       "      <th>city</th>\n",
       "      <th>state</th>\n",
       "      <th>postal_code</th>\n",
       "      <th>latitude</th>\n",
       "      <th>longitude</th>\n",
       "      <th>stars</th>\n",
       "      <th>review_count</th>\n",
       "      <th>is_open</th>\n",
       "      <th>attributes</th>\n",
       "      <th>categories</th>\n",
       "      <th>useful</th>\n",
       "      <th>funny</th>\n",
       "      <th>cool</th>\n",
       "    </tr>\n",
       "  </thead>\n",
       "  <tbody>\n",
       "    <tr>\n",
       "      <th>0</th>\n",
       "      <td>1616 Chapala St, Ste 2</td>\n",
       "      <td>Santa Barbara</td>\n",
       "      <td>CA</td>\n",
       "      <td>93101</td>\n",
       "      <td>34.426679</td>\n",
       "      <td>-119.711197</td>\n",
       "      <td>5.0</td>\n",
       "      <td>7</td>\n",
       "      <td>0</td>\n",
       "      <td>{'ByAppointmentOnly': 'True'}</td>\n",
       "      <td>Doctors, Traditional Chinese Medicine, Naturop...</td>\n",
       "      <td>1.29</td>\n",
       "      <td>0.43</td>\n",
       "      <td>0.14</td>\n",
       "    </tr>\n",
       "    <tr>\n",
       "      <th>1</th>\n",
       "      <td>87 Grasso Plaza Shopping Center</td>\n",
       "      <td>Affton</td>\n",
       "      <td>MO</td>\n",
       "      <td>63123</td>\n",
       "      <td>38.551126</td>\n",
       "      <td>-90.335695</td>\n",
       "      <td>3.0</td>\n",
       "      <td>15</td>\n",
       "      <td>1</td>\n",
       "      <td>{'BusinessAcceptsCreditCards': 'True'}</td>\n",
       "      <td>Shipping Centers, Local Services, Notaries, Ma...</td>\n",
       "      <td>1.27</td>\n",
       "      <td>0.40</td>\n",
       "      <td>0.40</td>\n",
       "    </tr>\n",
       "    <tr>\n",
       "      <th>2</th>\n",
       "      <td>5255 E Broadway Blvd</td>\n",
       "      <td>Tucson</td>\n",
       "      <td>AZ</td>\n",
       "      <td>85711</td>\n",
       "      <td>32.223236</td>\n",
       "      <td>-110.880452</td>\n",
       "      <td>3.5</td>\n",
       "      <td>22</td>\n",
       "      <td>0</td>\n",
       "      <td>{'BikeParking': 'True', 'BusinessAcceptsCredit...</td>\n",
       "      <td>Department Stores, Shopping, Fashion, Home &amp; G...</td>\n",
       "      <td>0.88</td>\n",
       "      <td>0.83</td>\n",
       "      <td>0.50</td>\n",
       "    </tr>\n",
       "    <tr>\n",
       "      <th>3</th>\n",
       "      <td>935 Race St</td>\n",
       "      <td>Philadelphia</td>\n",
       "      <td>PA</td>\n",
       "      <td>19107</td>\n",
       "      <td>39.955505</td>\n",
       "      <td>-75.155564</td>\n",
       "      <td>4.0</td>\n",
       "      <td>80</td>\n",
       "      <td>1</td>\n",
       "      <td>{'RestaurantsDelivery': 'False', 'OutdoorSeati...</td>\n",
       "      <td>Restaurants, Food, Bubble Tea, Coffee &amp; Tea, B...</td>\n",
       "      <td>1.51</td>\n",
       "      <td>0.54</td>\n",
       "      <td>1.09</td>\n",
       "    </tr>\n",
       "    <tr>\n",
       "      <th>4</th>\n",
       "      <td>101 Walnut St</td>\n",
       "      <td>Green Lane</td>\n",
       "      <td>PA</td>\n",
       "      <td>18054</td>\n",
       "      <td>40.338183</td>\n",
       "      <td>-75.471659</td>\n",
       "      <td>4.5</td>\n",
       "      <td>13</td>\n",
       "      <td>1</td>\n",
       "      <td>{'BusinessAcceptsCreditCards': 'True', 'Wheelc...</td>\n",
       "      <td>Brewpubs, Breweries, Food</td>\n",
       "      <td>0.15</td>\n",
       "      <td>0.00</td>\n",
       "      <td>0.00</td>\n",
       "    </tr>\n",
       "  </tbody>\n",
       "</table>\n",
       "</div>"
      ],
      "text/plain": [
       "                           address           city state postal_code  \\\n",
       "0           1616 Chapala St, Ste 2  Santa Barbara    CA       93101   \n",
       "1  87 Grasso Plaza Shopping Center         Affton    MO       63123   \n",
       "2             5255 E Broadway Blvd         Tucson    AZ       85711   \n",
       "3                      935 Race St   Philadelphia    PA       19107   \n",
       "4                    101 Walnut St     Green Lane    PA       18054   \n",
       "\n",
       "    latitude   longitude  stars  review_count  is_open  \\\n",
       "0  34.426679 -119.711197    5.0             7        0   \n",
       "1  38.551126  -90.335695    3.0            15        1   \n",
       "2  32.223236 -110.880452    3.5            22        0   \n",
       "3  39.955505  -75.155564    4.0            80        1   \n",
       "4  40.338183  -75.471659    4.5            13        1   \n",
       "\n",
       "                                          attributes  \\\n",
       "0                      {'ByAppointmentOnly': 'True'}   \n",
       "1             {'BusinessAcceptsCreditCards': 'True'}   \n",
       "2  {'BikeParking': 'True', 'BusinessAcceptsCredit...   \n",
       "3  {'RestaurantsDelivery': 'False', 'OutdoorSeati...   \n",
       "4  {'BusinessAcceptsCreditCards': 'True', 'Wheelc...   \n",
       "\n",
       "                                          categories  useful  funny  cool  \n",
       "0  Doctors, Traditional Chinese Medicine, Naturop...    1.29   0.43  0.14  \n",
       "1  Shipping Centers, Local Services, Notaries, Ma...    1.27   0.40  0.40  \n",
       "2  Department Stores, Shopping, Fashion, Home & G...    0.88   0.83  0.50  \n",
       "3  Restaurants, Food, Bubble Tea, Coffee & Tea, B...    1.51   0.54  1.09  \n",
       "4                          Brewpubs, Breweries, Food    0.15   0.00  0.00  "
      ]
     },
     "execution_count": 56,
     "metadata": {},
     "output_type": "execute_result"
    }
   ],
   "source": [
    "#Merge business and review\n",
    "business = pd.merge(business, review, on='business_id', how='left')\n",
    "business = business.drop(['hours', 'business_id', 'name'], axis=1)\n",
    "business.head()"
   ]
  },
  {
   "cell_type": "code",
   "execution_count": 57,
   "id": "bc62dc38",
   "metadata": {},
   "outputs": [],
   "source": [
    "#Save the data\n",
    "with open('./models/business.pickle', 'wb') as f:\n",
    "    pickle.dump(business, f)"
   ]
  },
  {
   "cell_type": "code",
   "execution_count": 58,
   "id": "62fd8f0e",
   "metadata": {},
   "outputs": [],
   "source": [
    "#Load the data\n",
    "with open('./models/business.pickle', 'rb') as f:\n",
    "    business = pickle.load(f)"
   ]
  },
  {
   "cell_type": "markdown",
   "id": "c2d898c0",
   "metadata": {},
   "source": [
    "## Null values"
   ]
  },
  {
   "cell_type": "markdown",
   "id": "e2b1f539",
   "metadata": {},
   "source": [
    "A continución analizaremos la cantidad de valores nulos de la nueva tabla business."
   ]
  },
  {
   "cell_type": "code",
   "execution_count": 59,
   "id": "4a3a4db0",
   "metadata": {},
   "outputs": [],
   "source": [
    "#Calculation od the null data\n",
    "pd_series_null_columns = business.isnull().sum().sort_values(ascending=False)\n",
    "\n",
    "pd_null_columnas = pd.DataFrame(pd_series_null_columns, columns=['nulos_columnas'])  "
   ]
  },
  {
   "cell_type": "code",
   "execution_count": 60,
   "id": "6129a817",
   "metadata": {},
   "outputs": [
    {
     "data": {
      "text/html": [
       "<div>\n",
       "<style scoped>\n",
       "    .dataframe tbody tr th:only-of-type {\n",
       "        vertical-align: middle;\n",
       "    }\n",
       "\n",
       "    .dataframe tbody tr th {\n",
       "        vertical-align: top;\n",
       "    }\n",
       "\n",
       "    .dataframe thead th {\n",
       "        text-align: right;\n",
       "    }\n",
       "</style>\n",
       "<table border=\"1\" class=\"dataframe\">\n",
       "  <thead>\n",
       "    <tr style=\"text-align: right;\">\n",
       "      <th></th>\n",
       "      <th>nulos_columnas</th>\n",
       "    </tr>\n",
       "  </thead>\n",
       "  <tbody>\n",
       "    <tr>\n",
       "      <th>attributes</th>\n",
       "      <td>13744</td>\n",
       "    </tr>\n",
       "    <tr>\n",
       "      <th>categories</th>\n",
       "      <td>103</td>\n",
       "    </tr>\n",
       "    <tr>\n",
       "      <th>address</th>\n",
       "      <td>0</td>\n",
       "    </tr>\n",
       "    <tr>\n",
       "      <th>city</th>\n",
       "      <td>0</td>\n",
       "    </tr>\n",
       "    <tr>\n",
       "      <th>state</th>\n",
       "      <td>0</td>\n",
       "    </tr>\n",
       "    <tr>\n",
       "      <th>postal_code</th>\n",
       "      <td>0</td>\n",
       "    </tr>\n",
       "    <tr>\n",
       "      <th>latitude</th>\n",
       "      <td>0</td>\n",
       "    </tr>\n",
       "    <tr>\n",
       "      <th>longitude</th>\n",
       "      <td>0</td>\n",
       "    </tr>\n",
       "    <tr>\n",
       "      <th>stars</th>\n",
       "      <td>0</td>\n",
       "    </tr>\n",
       "    <tr>\n",
       "      <th>review_count</th>\n",
       "      <td>0</td>\n",
       "    </tr>\n",
       "    <tr>\n",
       "      <th>is_open</th>\n",
       "      <td>0</td>\n",
       "    </tr>\n",
       "    <tr>\n",
       "      <th>useful</th>\n",
       "      <td>0</td>\n",
       "    </tr>\n",
       "    <tr>\n",
       "      <th>funny</th>\n",
       "      <td>0</td>\n",
       "    </tr>\n",
       "    <tr>\n",
       "      <th>cool</th>\n",
       "      <td>0</td>\n",
       "    </tr>\n",
       "  </tbody>\n",
       "</table>\n",
       "</div>"
      ],
      "text/plain": [
       "              nulos_columnas\n",
       "attributes             13744\n",
       "categories               103\n",
       "address                    0\n",
       "city                       0\n",
       "state                      0\n",
       "postal_code                0\n",
       "latitude                   0\n",
       "longitude                  0\n",
       "stars                      0\n",
       "review_count               0\n",
       "is_open                    0\n",
       "useful                     0\n",
       "funny                      0\n",
       "cool                       0"
      ]
     },
     "execution_count": 60,
     "metadata": {},
     "output_type": "execute_result"
    }
   ],
   "source": [
    "pd_null_columnas"
   ]
  },
  {
   "cell_type": "markdown",
   "id": "5d203fb4",
   "metadata": {},
   "source": [
    "Existen valores nulos en attributes y categories. Eliminaremos estos valores nulos ya que las categorías pueden ser una variable importante a la hora de predecir la puntuación de las reseñas."
   ]
  },
  {
   "cell_type": "code",
   "execution_count": 61,
   "id": "720ad2c7",
   "metadata": {},
   "outputs": [],
   "source": [
    "#Drop na to create new column cat2\n",
    "business = business.dropna(axis=0)\n",
    "business = business.reset_index(drop=True)"
   ]
  },
  {
   "cell_type": "markdown",
   "id": "1570601c",
   "metadata": {},
   "source": [
    "## Correlación"
   ]
  },
  {
   "cell_type": "markdown",
   "id": "549d29a7",
   "metadata": {},
   "source": [
    "Estudiamos la correlación entre las variables numércias."
   ]
  },
  {
   "cell_type": "code",
   "execution_count": 62,
   "id": "c82aae79",
   "metadata": {},
   "outputs": [],
   "source": [
    "#Numeric variables\n",
    "list_numeric_var = [\"stars\", \"review_count\", \"useful\", \"funny\", \"cool\"]"
   ]
  },
  {
   "cell_type": "code",
   "execution_count": 63,
   "id": "f227de75",
   "metadata": {},
   "outputs": [
    {
     "data": {
      "text/html": [
       "<div>\n",
       "<style scoped>\n",
       "    .dataframe tbody tr th:only-of-type {\n",
       "        vertical-align: middle;\n",
       "    }\n",
       "\n",
       "    .dataframe tbody tr th {\n",
       "        vertical-align: top;\n",
       "    }\n",
       "\n",
       "    .dataframe thead th {\n",
       "        text-align: right;\n",
       "    }\n",
       "</style>\n",
       "<table border=\"1\" class=\"dataframe\">\n",
       "  <thead>\n",
       "    <tr style=\"text-align: right;\">\n",
       "      <th></th>\n",
       "      <th>level_0</th>\n",
       "      <th>level_1</th>\n",
       "      <th>correlation</th>\n",
       "    </tr>\n",
       "  </thead>\n",
       "  <tbody>\n",
       "    <tr>\n",
       "      <th>23</th>\n",
       "      <td>cool</td>\n",
       "      <td>funny</td>\n",
       "      <td>0.669947</td>\n",
       "    </tr>\n",
       "    <tr>\n",
       "      <th>22</th>\n",
       "      <td>cool</td>\n",
       "      <td>useful</td>\n",
       "      <td>0.552619</td>\n",
       "    </tr>\n",
       "    <tr>\n",
       "      <th>17</th>\n",
       "      <td>funny</td>\n",
       "      <td>useful</td>\n",
       "      <td>0.519374</td>\n",
       "    </tr>\n",
       "  </tbody>\n",
       "</table>\n",
       "</div>"
      ],
      "text/plain": [
       "   level_0 level_1  correlation\n",
       "23    cool   funny     0.669947\n",
       "22    cool  useful     0.552619\n",
       "17   funny  useful     0.519374"
      ]
     },
     "execution_count": 63,
     "metadata": {},
     "output_type": "execute_result"
    }
   ],
   "source": [
    "#Calculation of the correlation\n",
    "corr = business[list_numeric_var].corr('pearson')\n",
    "new_corr = corr.abs()\n",
    "new_corr.loc[:,:] = np.tril(new_corr, k=-1) # below main lower triangle of an array\n",
    "new_corr = new_corr.stack().to_frame('correlation').reset_index().sort_values(by='correlation', ascending=False)\n",
    "new_corr[new_corr['correlation']>0.5]"
   ]
  },
  {
   "cell_type": "code",
   "execution_count": 64,
   "id": "c2c4485a",
   "metadata": {
    "scrolled": false
   },
   "outputs": [
    {
     "data": {
      "image/png": "[encoded data removed]",
      "text/plain": [
       "<Figure size 720x576 with 2 Axes>"
      ]
     },
     "metadata": {},
     "output_type": "display_data"
    },
    {
     "data": {
      "text/plain": [
       "0"
      ]
     },
     "execution_count": 64,
     "metadata": {},
     "output_type": "execute_result"
    }
   ],
   "source": [
    "#plot the correlation matrix\n",
    "get_corr_matrix(dataset = business[list_numeric_var], \n",
    "                metodo='pearson', size_figure=[10,8])"
   ]
  },
  {
   "cell_type": "markdown",
   "id": "678c98d5",
   "metadata": {},
   "source": [
    "Se puede apreciar que las variables que más correlación tienen entre sí son 'funny', 'useful' y 'cool'. Aún así la mayor correlación es de tan solo 0.67, por lo tanto no realizaremos modificaciones."
   ]
  },
  {
   "cell_type": "markdown",
   "id": "262bea2c",
   "metadata": {},
   "source": [
    "# Mapas\n"
   ]
  },
  {
   "cell_type": "markdown",
   "id": "6dc78b9b",
   "metadata": {},
   "source": [
    "En este apartado del EDA, realizaremos un análisis geográfico de los datos utilizando la columna 'state' y la longitud y latitud. "
   ]
  },
  {
   "cell_type": "markdown",
   "id": "342bbfd1",
   "metadata": {},
   "source": [
    "### Mapa por estado"
   ]
  },
  {
   "cell_type": "markdown",
   "id": "6152b424",
   "metadata": {},
   "source": [
    "Relaizaremos 2 mapas por estado: el primero teniendo en cuenta el número de reviews, y el segundo la puntuación."
   ]
  },
  {
   "cell_type": "code",
   "execution_count": 65,
   "id": "8ef1f515",
   "metadata": {},
   "outputs": [],
   "source": [
    "#Read the map representation data\n",
    "geo_data = gpd.read_file('./data/usa-states-census-2014.shp')\n",
    "#Change the column name STUSPS to state so its the same as our data frame\n",
    "geo_data = geo_data.rename(columns={'STUSPS': 'state'})"
   ]
  },
  {
   "cell_type": "code",
   "execution_count": 66,
   "id": "9bd262ee",
   "metadata": {},
   "outputs": [],
   "source": [
    "#Group the data by state\n",
    "business_geo = business.groupby(['state']).agg({'stars': ['mean'], 'review_count': ['sum']})"
   ]
  },
  {
   "cell_type": "code",
   "execution_count": 67,
   "id": "a3b5cfe8",
   "metadata": {},
   "outputs": [
    {
     "data": {
      "text/html": [
       "<div>\n",
       "<style scoped>\n",
       "    .dataframe tbody tr th:only-of-type {\n",
       "        vertical-align: middle;\n",
       "    }\n",
       "\n",
       "    .dataframe tbody tr th {\n",
       "        vertical-align: top;\n",
       "    }\n",
       "\n",
       "    .dataframe thead th {\n",
       "        text-align: right;\n",
       "    }\n",
       "</style>\n",
       "<table border=\"1\" class=\"dataframe\">\n",
       "  <thead>\n",
       "    <tr style=\"text-align: right;\">\n",
       "      <th></th>\n",
       "      <th>stars_mean</th>\n",
       "      <th>reviews</th>\n",
       "    </tr>\n",
       "    <tr>\n",
       "      <th>state</th>\n",
       "      <th></th>\n",
       "      <th></th>\n",
       "    </tr>\n",
       "  </thead>\n",
       "  <tbody>\n",
       "    <tr>\n",
       "      <th>AB</th>\n",
       "      <td>3.487115</td>\n",
       "      <td>99451</td>\n",
       "    </tr>\n",
       "    <tr>\n",
       "      <th>AZ</th>\n",
       "      <td>3.620964</td>\n",
       "      <td>400535</td>\n",
       "    </tr>\n",
       "    <tr>\n",
       "      <th>CA</th>\n",
       "      <td>4.010602</td>\n",
       "      <td>332344</td>\n",
       "    </tr>\n",
       "    <tr>\n",
       "      <th>CO</th>\n",
       "      <td>4.000000</td>\n",
       "      <td>30</td>\n",
       "    </tr>\n",
       "    <tr>\n",
       "      <th>DE</th>\n",
       "      <td>3.391683</td>\n",
       "      <td>65124</td>\n",
       "    </tr>\n",
       "  </tbody>\n",
       "</table>\n",
       "</div>"
      ],
      "text/plain": [
       "       stars_mean  reviews\n",
       "state                     \n",
       "AB       3.487115    99451\n",
       "AZ       3.620964   400535\n",
       "CA       4.010602   332344\n",
       "CO       4.000000       30\n",
       "DE       3.391683    65124"
      ]
     },
     "execution_count": 67,
     "metadata": {},
     "output_type": "execute_result"
    }
   ],
   "source": [
    "#Rename the columns\n",
    "business_geo.columns = ['stars_mean', 'reviews']\n",
    "business_geo.head()"
   ]
  },
  {
   "cell_type": "code",
   "execution_count": 68,
   "id": "45496828",
   "metadata": {},
   "outputs": [],
   "source": [
    "#Create a data frame with all the states included\n",
    "states = geo_data['state'].unique()\n",
    "states = pd.DataFrame(states)\n",
    "states.columns=['state']"
   ]
  },
  {
   "cell_type": "code",
   "execution_count": 69,
   "id": "a711fc8e",
   "metadata": {},
   "outputs": [
    {
     "data": {
      "text/html": [
       "<div>\n",
       "<style scoped>\n",
       "    .dataframe tbody tr th:only-of-type {\n",
       "        vertical-align: middle;\n",
       "    }\n",
       "\n",
       "    .dataframe tbody tr th {\n",
       "        vertical-align: top;\n",
       "    }\n",
       "\n",
       "    .dataframe thead th {\n",
       "        text-align: right;\n",
       "    }\n",
       "</style>\n",
       "<table border=\"1\" class=\"dataframe\">\n",
       "  <thead>\n",
       "    <tr style=\"text-align: right;\">\n",
       "      <th></th>\n",
       "      <th>state</th>\n",
       "      <th>stars_mean</th>\n",
       "      <th>reviews</th>\n",
       "    </tr>\n",
       "  </thead>\n",
       "  <tbody>\n",
       "    <tr>\n",
       "      <th>0</th>\n",
       "      <td>CA</td>\n",
       "      <td>4.010602</td>\n",
       "      <td>332344.0</td>\n",
       "    </tr>\n",
       "    <tr>\n",
       "      <th>1</th>\n",
       "      <td>DC</td>\n",
       "      <td>0.000000</td>\n",
       "      <td>0.0</td>\n",
       "    </tr>\n",
       "    <tr>\n",
       "      <th>2</th>\n",
       "      <td>FL</td>\n",
       "      <td>3.642321</td>\n",
       "      <td>1087557.0</td>\n",
       "    </tr>\n",
       "    <tr>\n",
       "      <th>3</th>\n",
       "      <td>GA</td>\n",
       "      <td>0.000000</td>\n",
       "      <td>0.0</td>\n",
       "    </tr>\n",
       "    <tr>\n",
       "      <th>4</th>\n",
       "      <td>ID</td>\n",
       "      <td>3.744775</td>\n",
       "      <td>147232.0</td>\n",
       "    </tr>\n",
       "  </tbody>\n",
       "</table>\n",
       "</div>"
      ],
      "text/plain": [
       "  state  stars_mean    reviews\n",
       "0    CA    4.010602   332344.0\n",
       "1    DC    0.000000        0.0\n",
       "2    FL    3.642321  1087557.0\n",
       "3    GA    0.000000        0.0\n",
       "4    ID    3.744775   147232.0"
      ]
     },
     "execution_count": 69,
     "metadata": {},
     "output_type": "execute_result"
    }
   ],
   "source": [
    "#Add the missing states to the data frame with 0 values\n",
    "business_geo = pd.merge(states, business_geo,  on='state', how='outer').fillna(0)\n",
    "business_geo.head()"
   ]
  },
  {
   "cell_type": "code",
   "execution_count": 70,
   "id": "9f96d6f3",
   "metadata": {},
   "outputs": [
    {
     "data": {
      "text/plain": [
       "<AxesSubplot:>"
      ]
     },
     "execution_count": 70,
     "metadata": {},
     "output_type": "execute_result"
    },
    {
     "data": {
      "image/png": "[encoded data removed]",
      "text/plain": [
       "<Figure size 432x288 with 2 Axes>"
      ]
     },
     "metadata": {},
     "output_type": "display_data"
    }
   ],
   "source": [
    "(geo_data\n",
    "    .dissolve(by='state')\n",
    "    .merge(business_geo, on='state', how='left')\n",
    "    .plot('reviews', cmap='Blues', legend=True)\n",
    ")"
   ]
  },
  {
   "cell_type": "markdown",
   "id": "da26cd9a",
   "metadata": {},
   "source": [
    "Una gran cantidad de reseñas se encuentran en el estado de Pensilvania, teniendo también un color oscura Florida. Se puede observar la falta de datos en muchos de los estados, sobretodo aquellos del centro del país."
   ]
  },
  {
   "cell_type": "code",
   "execution_count": 71,
   "id": "46a1e888",
   "metadata": {
    "scrolled": true
   },
   "outputs": [
    {
     "data": {
      "text/plain": [
       "<AxesSubplot:>"
      ]
     },
     "execution_count": 71,
     "metadata": {},
     "output_type": "execute_result"
    },
    {
     "data": {
      "image/png": "[encoded data removed]",
      "text/plain": [
       "<Figure size 432x288 with 2 Axes>"
      ]
     },
     "metadata": {},
     "output_type": "display_data"
    }
   ],
   "source": [
    "(geo_data\n",
    "    .dissolve(by='state')\n",
    "    .merge(business_geo, on='state', how='left')\n",
    "    .plot('stars_mean', cmap='YlOrRd', legend=True)\n",
    ")"
   ]
  },
  {
   "cell_type": "markdown",
   "id": "1e4b859d",
   "metadata": {},
   "source": [
    "Las mejores puntuaciones han sido obtenidas en Montana. El resto de estados también tienen colores rojizos, significando buena nota, pero algunos como Michigan, Carolina del Norte o Massachusetts tienen colores más claros, obteniendo una puntuación media inferior al resto de estados."
   ]
  },
  {
   "cell_type": "markdown",
   "id": "85e52f0a",
   "metadata": {},
   "source": [
    "### Mapa por coordenadas"
   ]
  },
  {
   "cell_type": "markdown",
   "id": "5953b74d",
   "metadata": {},
   "source": [
    "Con este mapa podremos ver la localización y distribución de los negocios por el territorio de Estados Unidos."
   ]
  },
  {
   "cell_type": "code",
   "execution_count": 72,
   "id": "933ef01c",
   "metadata": {},
   "outputs": [],
   "source": [
    "from shapely.geometry import Point, Polygon\n",
    "geometry = [Point(xy) for xy in zip(business[\"longitude\"], business[\"latitude\"])]"
   ]
  },
  {
   "cell_type": "code",
   "execution_count": 73,
   "id": "23f9580b",
   "metadata": {},
   "outputs": [
    {
     "data": {
      "text/html": [
       "<div>\n",
       "<style scoped>\n",
       "    .dataframe tbody tr th:only-of-type {\n",
       "        vertical-align: middle;\n",
       "    }\n",
       "\n",
       "    .dataframe tbody tr th {\n",
       "        vertical-align: top;\n",
       "    }\n",
       "\n",
       "    .dataframe thead th {\n",
       "        text-align: right;\n",
       "    }\n",
       "</style>\n",
       "<table border=\"1\" class=\"dataframe\">\n",
       "  <thead>\n",
       "    <tr style=\"text-align: right;\">\n",
       "      <th></th>\n",
       "      <th>address</th>\n",
       "      <th>city</th>\n",
       "      <th>state</th>\n",
       "      <th>postal_code</th>\n",
       "      <th>latitude</th>\n",
       "      <th>longitude</th>\n",
       "      <th>stars</th>\n",
       "      <th>review_count</th>\n",
       "      <th>is_open</th>\n",
       "      <th>attributes</th>\n",
       "      <th>categories</th>\n",
       "      <th>useful</th>\n",
       "      <th>funny</th>\n",
       "      <th>cool</th>\n",
       "      <th>geometry</th>\n",
       "    </tr>\n",
       "  </thead>\n",
       "  <tbody>\n",
       "    <tr>\n",
       "      <th>0</th>\n",
       "      <td>1616 Chapala St, Ste 2</td>\n",
       "      <td>Santa Barbara</td>\n",
       "      <td>CA</td>\n",
       "      <td>93101</td>\n",
       "      <td>34.426679</td>\n",
       "      <td>-119.711197</td>\n",
       "      <td>5.0</td>\n",
       "      <td>7</td>\n",
       "      <td>0</td>\n",
       "      <td>{'ByAppointmentOnly': 'True'}</td>\n",
       "      <td>Doctors, Traditional Chinese Medicine, Naturop...</td>\n",
       "      <td>1.29</td>\n",
       "      <td>0.43</td>\n",
       "      <td>0.14</td>\n",
       "      <td>POINT (-119.71120 34.42668)</td>\n",
       "    </tr>\n",
       "    <tr>\n",
       "      <th>1</th>\n",
       "      <td>87 Grasso Plaza Shopping Center</td>\n",
       "      <td>Affton</td>\n",
       "      <td>MO</td>\n",
       "      <td>63123</td>\n",
       "      <td>38.551126</td>\n",
       "      <td>-90.335695</td>\n",
       "      <td>3.0</td>\n",
       "      <td>15</td>\n",
       "      <td>1</td>\n",
       "      <td>{'BusinessAcceptsCreditCards': 'True'}</td>\n",
       "      <td>Shipping Centers, Local Services, Notaries, Ma...</td>\n",
       "      <td>1.27</td>\n",
       "      <td>0.40</td>\n",
       "      <td>0.40</td>\n",
       "      <td>POINT (-90.33570 38.55113)</td>\n",
       "    </tr>\n",
       "    <tr>\n",
       "      <th>2</th>\n",
       "      <td>5255 E Broadway Blvd</td>\n",
       "      <td>Tucson</td>\n",
       "      <td>AZ</td>\n",
       "      <td>85711</td>\n",
       "      <td>32.223236</td>\n",
       "      <td>-110.880452</td>\n",
       "      <td>3.5</td>\n",
       "      <td>22</td>\n",
       "      <td>0</td>\n",
       "      <td>{'BikeParking': 'True', 'BusinessAcceptsCredit...</td>\n",
       "      <td>Department Stores, Shopping, Fashion, Home &amp; G...</td>\n",
       "      <td>0.88</td>\n",
       "      <td>0.83</td>\n",
       "      <td>0.50</td>\n",
       "      <td>POINT (-110.88045 32.22324)</td>\n",
       "    </tr>\n",
       "    <tr>\n",
       "      <th>3</th>\n",
       "      <td>935 Race St</td>\n",
       "      <td>Philadelphia</td>\n",
       "      <td>PA</td>\n",
       "      <td>19107</td>\n",
       "      <td>39.955505</td>\n",
       "      <td>-75.155564</td>\n",
       "      <td>4.0</td>\n",
       "      <td>80</td>\n",
       "      <td>1</td>\n",
       "      <td>{'RestaurantsDelivery': 'False', 'OutdoorSeati...</td>\n",
       "      <td>Restaurants, Food, Bubble Tea, Coffee &amp; Tea, B...</td>\n",
       "      <td>1.51</td>\n",
       "      <td>0.54</td>\n",
       "      <td>1.09</td>\n",
       "      <td>POINT (-75.15556 39.95551)</td>\n",
       "    </tr>\n",
       "    <tr>\n",
       "      <th>4</th>\n",
       "      <td>101 Walnut St</td>\n",
       "      <td>Green Lane</td>\n",
       "      <td>PA</td>\n",
       "      <td>18054</td>\n",
       "      <td>40.338183</td>\n",
       "      <td>-75.471659</td>\n",
       "      <td>4.5</td>\n",
       "      <td>13</td>\n",
       "      <td>1</td>\n",
       "      <td>{'BusinessAcceptsCreditCards': 'True', 'Wheelc...</td>\n",
       "      <td>Brewpubs, Breweries, Food</td>\n",
       "      <td>0.15</td>\n",
       "      <td>0.00</td>\n",
       "      <td>0.00</td>\n",
       "      <td>POINT (-75.47166 40.33818)</td>\n",
       "    </tr>\n",
       "  </tbody>\n",
       "</table>\n",
       "</div>"
      ],
      "text/plain": [
       "                           address           city state postal_code  \\\n",
       "0           1616 Chapala St, Ste 2  Santa Barbara    CA       93101   \n",
       "1  87 Grasso Plaza Shopping Center         Affton    MO       63123   \n",
       "2             5255 E Broadway Blvd         Tucson    AZ       85711   \n",
       "3                      935 Race St   Philadelphia    PA       19107   \n",
       "4                    101 Walnut St     Green Lane    PA       18054   \n",
       "\n",
       "    latitude   longitude  stars  review_count  is_open  \\\n",
       "0  34.426679 -119.711197    5.0             7        0   \n",
       "1  38.551126  -90.335695    3.0            15        1   \n",
       "2  32.223236 -110.880452    3.5            22        0   \n",
       "3  39.955505  -75.155564    4.0            80        1   \n",
       "4  40.338183  -75.471659    4.5            13        1   \n",
       "\n",
       "                                          attributes  \\\n",
       "0                      {'ByAppointmentOnly': 'True'}   \n",
       "1             {'BusinessAcceptsCreditCards': 'True'}   \n",
       "2  {'BikeParking': 'True', 'BusinessAcceptsCredit...   \n",
       "3  {'RestaurantsDelivery': 'False', 'OutdoorSeati...   \n",
       "4  {'BusinessAcceptsCreditCards': 'True', 'Wheelc...   \n",
       "\n",
       "                                          categories  useful  funny  cool  \\\n",
       "0  Doctors, Traditional Chinese Medicine, Naturop...    1.29   0.43  0.14   \n",
       "1  Shipping Centers, Local Services, Notaries, Ma...    1.27   0.40  0.40   \n",
       "2  Department Stores, Shopping, Fashion, Home & G...    0.88   0.83  0.50   \n",
       "3  Restaurants, Food, Bubble Tea, Coffee & Tea, B...    1.51   0.54  1.09   \n",
       "4                          Brewpubs, Breweries, Food    0.15   0.00  0.00   \n",
       "\n",
       "                      geometry  \n",
       "0  POINT (-119.71120 34.42668)  \n",
       "1   POINT (-90.33570 38.55113)  \n",
       "2  POINT (-110.88045 32.22324)  \n",
       "3   POINT (-75.15556 39.95551)  \n",
       "4   POINT (-75.47166 40.33818)  "
      ]
     },
     "execution_count": 73,
     "metadata": {},
     "output_type": "execute_result"
    }
   ],
   "source": [
    "crs = {'init': 'epsg:4326'}\n",
    "\n",
    "geo_df = gpd.GeoDataFrame(business,\n",
    "                         crs=crs,\n",
    "                         geometry=geometry)\n",
    "geo_df.head()"
   ]
  },
  {
   "cell_type": "code",
   "execution_count": 74,
   "id": "54850a21",
   "metadata": {},
   "outputs": [
    {
     "data": {
      "image/png": "[encoded data removed]",
      "text/plain": [
       "<Figure size 1080x1080 with 2 Axes>"
      ]
     },
     "metadata": {},
     "output_type": "display_data"
    }
   ],
   "source": [
    "fig,ax = plt.subplots(figsize =(15,15))\n",
    "geo_data.plot(ax=ax, alpha = 1, color='lightgrey')\n",
    "geo_df.plot(column='stars',ax=ax,alpha=0.5, legend=True,markersize=3)\n",
    "plt.title('Star reviews', fontsize=15,fontweight='bold')\n",
    "plt.show()"
   ]
  },
  {
   "cell_type": "markdown",
   "id": "f7a76853",
   "metadata": {},
   "source": [
    "Se peude observar en el mapa superior que los negocios están agrupados en regiones o ciudades específicas dentro de su estado, siendo difícil observar 2 distintas aglomeraciones de negocios en un mismo estado."
   ]
  },
  {
   "cell_type": "markdown",
   "id": "144b214c",
   "metadata": {},
   "source": [
    "# Columna category"
   ]
  },
  {
   "cell_type": "markdown",
   "id": "cd211888",
   "metadata": {},
   "source": [
    "El data frame de business tiene 2 columnas que procederemos a modificar. Primero la columna category, la cual la utilizaremos para crear otra columna con 10 categorías generales. Estas serán restaurantes, spa y belleza, compras, salud y médica, automotor, servicio y planificación de eventos, arte y entretenimiento, hoteles y viajes, vida activa, y centros de envío."
   ]
  },
  {
   "cell_type": "code",
   "execution_count": 75,
   "id": "4cf98df8",
   "metadata": {},
   "outputs": [
    {
     "name": "stdout",
     "output_type": "stream",
     "text": [
      "Doctors, Traditional Chinese Medicine, Naturopathic/Holistic, Acupuncture, Health & Medical, Nutritionists\n",
      "Shipping Centers, Local Services, Notaries, Mailbox Centers, Printing Services\n",
      "Department Stores, Shopping, Fashion, Home & Garden, Electronics, Furniture Stores\n",
      "Restaurants, Food, Bubble Tea, Coffee & Tea, Bakeries\n",
      "Brewpubs, Breweries, Food\n",
      "Burgers, Fast Food, Sandwiches, Food, Ice Cream & Frozen Yogurt, Restaurants\n",
      "Sporting Goods, Fashion, Shoe Stores, Shopping, Sports Wear, Accessories\n",
      "Pubs, Restaurants, Italian, Bars, American (Traditional), Nightlife, Greek\n",
      "Ice Cream & Frozen Yogurt, Fast Food, Burgers, Restaurants, Food\n",
      "Department Stores, Shopping, Fashion\n",
      "Vietnamese, Food, Restaurants, Food Trucks\n",
      "American (Traditional), Restaurants, Diners, Breakfast & Brunch\n",
      "General Dentistry, Dentists, Health & Medical, Cosmetic Dentists\n",
      "Food, Delis, Italian, Bakeries, Restaurants\n",
      "Sushi Bars, Restaurants, Japanese\n",
      "Automotive, Auto Parts & Supplies, Auto Customization\n",
      "Vape Shops, Tobacco Shops, Personal Shopping, Vitamins & Supplements, Shopping\n",
      "Korean, Restaurants\n",
      "Coffee & Tea, Food, Cafes, Bars, Wine Bars, Restaurants, Nightlife\n",
      "Shopping, Books, Mags, Music & Video, Bookstores\n",
      "Steakhouses, Asian Fusion, Restaurants\n",
      "Restaurants, Italian\n",
      "Hot Dogs, Restaurants\n",
      "Women's Clothing, Accessories, Children's Clothing, Men's Clothing, Adult, Shopping, Fashion\n",
      "Restaurants, Japanese, Seafood\n",
      "Cocktail Bars, Bars, Italian, Nightlife, Restaurants\n",
      "Pizza, Chicken Wings, Sandwiches, Restaurants\n",
      "Trampoline Parks, Active Life\n",
      "Pizza, Restaurants, Salad, Soup\n",
      "Dance Wear, Sports Wear, Children's Clothing, Arts & Entertainment, Social Clubs, Performing Arts, Sporting Goods, Shoe Stores, Fashion, Shopping\n",
      "Pizza, Restaurants\n",
      "Event Planning & Services, Hotels, Hotels & Travel\n",
      "Eatertainment, Arts & Entertainment, Brewpubs, American (Traditional), Bakeries, Breweries, Food, Restaurants\n",
      "Restaurants, Burgers\n",
      "Mobile Phones, Telecommunications, Electronics, Mobile Phone Accessories, Local Services, Shopping, IT Services & Computer Repair\n",
      "Museums, Kids Activities, Arts & Entertainment, Education, Active Life, Playgrounds, Children's Museums\n",
      "Musicians, DJs, Karaoke, Event Planning & Services, Nightlife\n",
      "Hair Salons, Hair Extensions, Beauty & Spas, Wigs, Shopping\n",
      "Restaurants, Specialty Food, Steakhouses, Food, Italian, Pizza, Pasta Shops\n",
      "Health & Medical, Beauty & Spas, Laser Hair Removal, Doctors, Hair Removal, Chiropractors, Weight Loss Centers, Sports Medicine, Medical Spas, Skin Care\n",
      "Fashion, Shopping, Department Stores, Furniture Stores, Candle Stores, Home & Garden, Home Decor\n",
      "Restaurants, Chinese\n",
      "Arts & Entertainment, Music Venues, Internet Service Providers, Nightlife, Food, Coffee & Tea, Jazz & Blues, Professional Services, Internet Cafes\n",
      "Coffee & Tea, Restaurants, Wine Bars, Bars, Nightlife, American (Traditional), Event Planning & Services, Food, Caterers, Breakfast & Brunch, Cafes, Diners\n",
      "Shipping Centers, Local Services\n",
      "Restaurants, Italian\n",
      "Active Life, Fitness & Instruction, Trainers, Gyms, Yoga\n",
      "Specialty Food, Bakeries, Food, Health Markets\n",
      "Coffee & Tea, Cafes, Pets, Restaurants, Pet Adoption, Food\n",
      "Food, Grocery, Convenience Stores\n"
     ]
    }
   ],
   "source": [
    "#With this loop we will analyze and select the general categories\n",
    "for i in range(0,50):\n",
    "    print(business['categories'][i])"
   ]
  },
  {
   "cell_type": "code",
   "execution_count": 23,
   "id": "65604bf4",
   "metadata": {},
   "outputs": [],
   "source": [
    "#Create data frame to insert the new column\n",
    "business_cat = pd.DataFrame()\n",
    "\n",
    "for i in range(0,len(business)):\n",
    "    if 'Restaurants' in business['categories'][i]:\n",
    "        business_cat = business_cat.append(business.loc[i])\n",
    "        business_cat['categories'].loc[i] = 'Restaurants'\n",
    "    if 'Beauty & Spas' in business['categories'][i]:\n",
    "        business_cat = business_cat.append(business.loc[i])\n",
    "        business_cat['categories'].loc[i] = 'Beauty & Spas'\n",
    "    if 'Shopping' in business['categories'][i]:\n",
    "        business_cat = business_cat.append(business.loc[i])\n",
    "        business_cat['categories'].loc[i] = 'Shopping'\n",
    "    if 'Health & Medical' in business['categories'][i]:\n",
    "        business_cat = business_cat.append(business.loc[i])\n",
    "        business_cat['categories'].loc[i] = 'Health & Medical'\n",
    "    if 'Automotive' in business['categories'][i]:\n",
    "        business_cat = business_cat.append(business.loc[i])\n",
    "        business_cat['categories'].loc[i] = 'Automotive'\n",
    "    if 'Active Life' in business['categories'][i]:\n",
    "        business_cat = business_cat.append(business.loc[i])\n",
    "        business_cat['categories'].loc[i] = 'Active Life'\n",
    "    if 'Hotels & Travel' in business['categories'][i]:\n",
    "        business_cat = business_cat.append(business.loc[i])\n",
    "        business_cat['categories'].loc[i] = 'Hotels & Travel'\n",
    "    if 'Arts & Entertainment' in business['categories'][i]:\n",
    "        business_cat = business_cat.append(business.loc[i])\n",
    "        business_cat['categories'].loc[i] = 'Arts & Entertainment'\n",
    "    if 'Event Planning & Services' in business['categories'][i]:\n",
    "        business_cat = business_cat.append(business.loc[i])\n",
    "        business_cat['categories'].loc[i] = 'Event Planning & Services'\n",
    "    if 'Shipping Centers' in business['categories'][i]:\n",
    "        business_cat = business_cat.append(business.loc[i])\n",
    "        business_cat['categories'].loc[i] = 'Shipping Centers'"
   ]
  },
  {
   "cell_type": "code",
   "execution_count": 24,
   "id": "cefb0c03",
   "metadata": {},
   "outputs": [],
   "source": [
    "#Save the df\n",
    "with open('./models/business_cat.pickle', 'wb') as f:\n",
    "    pickle.dump(business_cat, f)"
   ]
  },
  {
   "cell_type": "code",
   "execution_count": 76,
   "id": "1e3b1ae6",
   "metadata": {},
   "outputs": [],
   "source": [
    "#Load the df\n",
    "with open('./models/business_cat.pickle', 'rb') as f:\n",
    "    business_cat = pickle.load(f)"
   ]
  },
  {
   "cell_type": "code",
   "execution_count": 77,
   "id": "455a8634",
   "metadata": {
    "scrolled": true
   },
   "outputs": [
    {
     "data": {
      "text/plain": [
       "Text(0.5, 1.0, 'Número de tiendas por categoría')"
      ]
     },
     "execution_count": 77,
     "metadata": {},
     "output_type": "execute_result"
    },
    {
     "data": {
      "image/png": "[encoded data removed]",
      "text/plain": [
       "<Figure size 432x288 with 1 Axes>"
      ]
     },
     "metadata": {},
     "output_type": "display_data"
    }
   ],
   "source": [
    "plt.hist(business_cat['categories'], orientation='horizontal', edgecolor='black')\n",
    "plt.title('Número de tiendas por categoría')"
   ]
  },
  {
   "cell_type": "markdown",
   "id": "0fb2a5e5",
   "metadata": {},
   "source": [
    "En la gráfica superior se puede apreciar que la categoría más reseñas con mucha diferencia es restaurantes, seguidos por las compras y los eventos. Por otro lado, se puede observar que los hoteles y los centros de envío son los que menor número de datos tenemos con una diferencia notable sobre la siguiente categoría.\n",
    "\n",
    "A continuación utilizaremos el One Hot Encode para hacer una codificación de estas variables categóricas."
   ]
  },
  {
   "cell_type": "markdown",
   "id": "941e9f70",
   "metadata": {},
   "source": [
    "# Codificación de variables categóricas"
   ]
  },
  {
   "cell_type": "markdown",
   "id": "69b4f5f2",
   "metadata": {},
   "source": [
    "### Separación de variable objetivo"
   ]
  },
  {
   "cell_type": "markdown",
   "id": "36b6d8c9",
   "metadata": {},
   "source": [
    "Como ha sido mencionado anteriormente, en este trabajo haremos un modelo predictivo sobre las puntuaciones obtenidas en las reseñas. Serán positvas aquellas con 4 estrellas o superior, y negativas aquellas con menos de 4 estrellas. Primero crearemos la columna objetivo"
   ]
  },
  {
   "cell_type": "code",
   "execution_count": 78,
   "id": "348bab88",
   "metadata": {},
   "outputs": [
    {
     "data": {
      "text/html": [
       "<div>\n",
       "<style scoped>\n",
       "    .dataframe tbody tr th:only-of-type {\n",
       "        vertical-align: middle;\n",
       "    }\n",
       "\n",
       "    .dataframe tbody tr th {\n",
       "        vertical-align: top;\n",
       "    }\n",
       "\n",
       "    .dataframe thead th {\n",
       "        text-align: right;\n",
       "    }\n",
       "</style>\n",
       "<table border=\"1\" class=\"dataframe\">\n",
       "  <thead>\n",
       "    <tr style=\"text-align: right;\">\n",
       "      <th></th>\n",
       "      <th>address</th>\n",
       "      <th>city</th>\n",
       "      <th>state</th>\n",
       "      <th>postal_code</th>\n",
       "      <th>latitude</th>\n",
       "      <th>longitude</th>\n",
       "      <th>stars</th>\n",
       "      <th>review_count</th>\n",
       "      <th>is_open</th>\n",
       "      <th>attributes</th>\n",
       "      <th>categories</th>\n",
       "      <th>useful</th>\n",
       "      <th>funny</th>\n",
       "      <th>cool</th>\n",
       "      <th>punctuation</th>\n",
       "    </tr>\n",
       "  </thead>\n",
       "  <tbody>\n",
       "    <tr>\n",
       "      <th>0</th>\n",
       "      <td>1616 Chapala St, Ste 2</td>\n",
       "      <td>Santa Barbara</td>\n",
       "      <td>CA</td>\n",
       "      <td>93101</td>\n",
       "      <td>34.426679</td>\n",
       "      <td>-119.711197</td>\n",
       "      <td>5.0</td>\n",
       "      <td>7</td>\n",
       "      <td>0</td>\n",
       "      <td>{'ByAppointmentOnly': 'True'}</td>\n",
       "      <td>Health &amp; Medical</td>\n",
       "      <td>1.29</td>\n",
       "      <td>0.43</td>\n",
       "      <td>0.14</td>\n",
       "      <td>1</td>\n",
       "    </tr>\n",
       "    <tr>\n",
       "      <th>1</th>\n",
       "      <td>87 Grasso Plaza Shopping Center</td>\n",
       "      <td>Affton</td>\n",
       "      <td>MO</td>\n",
       "      <td>63123</td>\n",
       "      <td>38.551126</td>\n",
       "      <td>-90.335695</td>\n",
       "      <td>3.0</td>\n",
       "      <td>15</td>\n",
       "      <td>1</td>\n",
       "      <td>{'BusinessAcceptsCreditCards': 'True'}</td>\n",
       "      <td>Shipping Centers</td>\n",
       "      <td>1.27</td>\n",
       "      <td>0.40</td>\n",
       "      <td>0.40</td>\n",
       "      <td>0</td>\n",
       "    </tr>\n",
       "    <tr>\n",
       "      <th>2</th>\n",
       "      <td>5255 E Broadway Blvd</td>\n",
       "      <td>Tucson</td>\n",
       "      <td>AZ</td>\n",
       "      <td>85711</td>\n",
       "      <td>32.223236</td>\n",
       "      <td>-110.880452</td>\n",
       "      <td>3.5</td>\n",
       "      <td>22</td>\n",
       "      <td>0</td>\n",
       "      <td>{'BikeParking': 'True', 'BusinessAcceptsCredit...</td>\n",
       "      <td>Shopping</td>\n",
       "      <td>0.88</td>\n",
       "      <td>0.83</td>\n",
       "      <td>0.50</td>\n",
       "      <td>0</td>\n",
       "    </tr>\n",
       "    <tr>\n",
       "      <th>3</th>\n",
       "      <td>935 Race St</td>\n",
       "      <td>Philadelphia</td>\n",
       "      <td>PA</td>\n",
       "      <td>19107</td>\n",
       "      <td>39.955505</td>\n",
       "      <td>-75.155564</td>\n",
       "      <td>4.0</td>\n",
       "      <td>80</td>\n",
       "      <td>1</td>\n",
       "      <td>{'RestaurantsDelivery': 'False', 'OutdoorSeati...</td>\n",
       "      <td>Restaurants</td>\n",
       "      <td>1.51</td>\n",
       "      <td>0.54</td>\n",
       "      <td>1.09</td>\n",
       "      <td>1</td>\n",
       "    </tr>\n",
       "    <tr>\n",
       "      <th>5</th>\n",
       "      <td>615 S Main St</td>\n",
       "      <td>Ashland City</td>\n",
       "      <td>TN</td>\n",
       "      <td>37015</td>\n",
       "      <td>36.269593</td>\n",
       "      <td>-87.058943</td>\n",
       "      <td>2.0</td>\n",
       "      <td>6</td>\n",
       "      <td>1</td>\n",
       "      <td>{'BusinessParking': 'None', 'BusinessAcceptsCr...</td>\n",
       "      <td>Restaurants</td>\n",
       "      <td>0.00</td>\n",
       "      <td>0.00</td>\n",
       "      <td>0.00</td>\n",
       "      <td>0</td>\n",
       "    </tr>\n",
       "  </tbody>\n",
       "</table>\n",
       "</div>"
      ],
      "text/plain": [
       "                           address           city state postal_code  \\\n",
       "0           1616 Chapala St, Ste 2  Santa Barbara    CA       93101   \n",
       "1  87 Grasso Plaza Shopping Center         Affton    MO       63123   \n",
       "2             5255 E Broadway Blvd         Tucson    AZ       85711   \n",
       "3                      935 Race St   Philadelphia    PA       19107   \n",
       "5                    615 S Main St   Ashland City    TN       37015   \n",
       "\n",
       "    latitude   longitude  stars  review_count  is_open  \\\n",
       "0  34.426679 -119.711197    5.0             7        0   \n",
       "1  38.551126  -90.335695    3.0            15        1   \n",
       "2  32.223236 -110.880452    3.5            22        0   \n",
       "3  39.955505  -75.155564    4.0            80        1   \n",
       "5  36.269593  -87.058943    2.0             6        1   \n",
       "\n",
       "                                          attributes        categories  \\\n",
       "0                      {'ByAppointmentOnly': 'True'}  Health & Medical   \n",
       "1             {'BusinessAcceptsCreditCards': 'True'}  Shipping Centers   \n",
       "2  {'BikeParking': 'True', 'BusinessAcceptsCredit...          Shopping   \n",
       "3  {'RestaurantsDelivery': 'False', 'OutdoorSeati...       Restaurants   \n",
       "5  {'BusinessParking': 'None', 'BusinessAcceptsCr...       Restaurants   \n",
       "\n",
       "   useful  funny  cool  punctuation  \n",
       "0    1.29   0.43  0.14            1  \n",
       "1    1.27   0.40  0.40            0  \n",
       "2    0.88   0.83  0.50            0  \n",
       "3    1.51   0.54  1.09            1  \n",
       "5    0.00   0.00  0.00            0  "
      ]
     },
     "execution_count": 78,
     "metadata": {},
     "output_type": "execute_result"
    }
   ],
   "source": [
    "#Convert stars column\n",
    "business_cat = business_cat.assign(punctuation=business_cat.stars.apply(lambda x: 1 if x >=4 else 0)) \n",
    "business_cat.head()"
   ]
  },
  {
   "cell_type": "markdown",
   "id": "657dd762",
   "metadata": {},
   "source": [
    "Ahora separaremos la nueva variable objetivo"
   ]
  },
  {
   "cell_type": "code",
   "execution_count": 79,
   "id": "b1538ce3",
   "metadata": {},
   "outputs": [],
   "source": [
    "#Select all the columns except the target variable\n",
    "X_punctuation = business_cat.drop('punctuation',axis=1)\n",
    "\n",
    "#Select the target variable\n",
    "y_punctuation = business_cat['punctuation']"
   ]
  },
  {
   "cell_type": "markdown",
   "id": "a18348a8",
   "metadata": {},
   "source": [
    "### Codificación"
   ]
  },
  {
   "cell_type": "markdown",
   "id": "1c71ee4e",
   "metadata": {},
   "source": [
    "A continuación codificaremos la variable 'categories' utilizando One Hot Encode y pondremos el nombre original de cada una en su respectiva columna "
   ]
  },
  {
   "cell_type": "code",
   "execution_count": 80,
   "id": "d08576a8",
   "metadata": {},
   "outputs": [],
   "source": [
    "#convertion of categorical variables with one hot encoder\n",
    "ohe = ce.OneHotEncoder(cols=['categories'])\n",
    "model = ohe.fit(X_punctuation, y_punctuation)"
   ]
  },
  {
   "cell_type": "code",
   "execution_count": 81,
   "id": "926ddec1",
   "metadata": {},
   "outputs": [],
   "source": [
    "X_punctuation_t = model.transform(X_punctuation, y_punctuation)"
   ]
  },
  {
   "cell_type": "code",
   "execution_count": 82,
   "id": "02f53729",
   "metadata": {},
   "outputs": [],
   "source": [
    "# ahora grafo por las categorias\n",
    "X_punctuation_t.rename(columns={\n",
    "    'categories_1': 'Health & Medical',\n",
    "    'categories_2': 'Shipping Centers',\n",
    "    'categories_3': 'Shopping',\n",
    "    'categories_4': 'Restaurants',\n",
    "    'categories_5': 'Automotive',\n",
    "    'categories_6': 'Active Life',\n",
    "    'categories_7': 'Arts & Entertainment',\n",
    "    'categories_8': 'Event Planning & Services',\n",
    "    'categories_9': 'Hotels & Travel',\n",
    "    'categories_10': 'Beauty & Spas'\n",
    "}, inplace=True)"
   ]
  },
  {
   "cell_type": "markdown",
   "id": "cecaa848",
   "metadata": {},
   "source": [
    "# Selección final de datos para la tabla utilizada en la predicción"
   ]
  },
  {
   "cell_type": "markdown",
   "id": "d2bc4460",
   "metadata": {},
   "source": [
    "Después de realizar el análisis, nos quedaremos solo con las variables útiles para realizar nuestros modelos de predicción y guardaremos los datos en un archivo parquet."
   ]
  },
  {
   "cell_type": "code",
   "execution_count": 83,
   "id": "65da479e",
   "metadata": {},
   "outputs": [],
   "source": [
    "X_punctuation_t = X_punctuation_t.drop(['state','address', 'city', 'postal_code', 'latitude', 'longitude', 'attributes'], axis=1)"
   ]
  },
  {
   "cell_type": "markdown",
   "id": "25dbc8fa",
   "metadata": {},
   "source": [
    "### Creación de train y test"
   ]
  },
  {
   "cell_type": "code",
   "execution_count": 84,
   "id": "e21e6874",
   "metadata": {},
   "outputs": [],
   "source": [
    "#20% of the data will be used as test data. Due to imbalance, use of stratify\n",
    "X_train, X_test, y_train, y_test = train_test_split(X_punctuation_t, \n",
    "                                                    y_punctuation, \n",
    "                                                    stratify=y_punctuation, \n",
    "                                                    test_size=0.2, \n",
    "                                                    random_state=12345)"
   ]
  },
  {
   "cell_type": "code",
   "execution_count": 85,
   "id": "1e34b8e0",
   "metadata": {},
   "outputs": [],
   "source": [
    "#Unimos las tablas x, y para su extracción\n",
    "X_test['punctuation'] = y_test\n",
    "X_train['punctuation'] = y_train"
   ]
  },
  {
   "cell_type": "markdown",
   "id": "309db547",
   "metadata": {},
   "source": [
    "# Descarga de datos"
   ]
  },
  {
   "cell_type": "code",
   "execution_count": 86,
   "id": "5b333a62",
   "metadata": {},
   "outputs": [],
   "source": [
    "#Create new CSV documetns with the training and test data separated\n",
    "X_train.to_parquet(\"./data/training_grapho.parquet\")\n",
    "X_test.to_parquet(\"./data/test_data.parquet\")"
   ]
  }
 ],
 "metadata": {
  "kernelspec": {
   "display_name": "yelp",
   "language": "python",
   "name": "yelp"
  },
  "language_info": {
   "codemirror_mode": {
    "name": "ipython",
    "version": 3
   },
   "file_extension": ".py",
   "mimetype": "text/x-python",
   "name": "python",
   "nbconvert_exporter": "python",
   "pygments_lexer": "ipython3",
   "version": "3.9.15"
  }
 },
 "nbformat": 4,
 "nbformat_minor": 5
}
